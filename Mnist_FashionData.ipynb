{
  "nbformat": 4,
  "nbformat_minor": 0,
  "metadata": {
    "colab": {
      "name": "Mnist_FashionData.ipynb",
      "provenance": [],
      "private_outputs": true,
      "collapsed_sections": []
    },
    "kernelspec": {
      "name": "python3",
      "display_name": "Python 3"
    },
    "accelerator": "GPU"
  },
  "cells": [
    {
      "cell_type": "code",
      "metadata": {
        "id": "sxLQjmREfxHu",
        "colab_type": "code",
        "colab": {}
      },
      "source": [
        "pip install tensorflow"
      ],
      "execution_count": null,
      "outputs": []
    },
    {
      "cell_type": "code",
      "metadata": {
        "id": "_jXJ27Q2gYMM",
        "colab_type": "code",
        "colab": {}
      },
      "source": [
        "%tensorflow_version 2.x  # this line is not required unless you are in a notebook"
      ],
      "execution_count": null,
      "outputs": []
    },
    {
      "cell_type": "code",
      "metadata": {
        "id": "vjgWgz18gAcn",
        "colab_type": "code",
        "colab": {}
      },
      "source": [
        "# import tensorflow as tf  # now import the tensorflow module\n",
        "# print(tf.version)  # make sure the version is 2.x"
      ],
      "execution_count": null,
      "outputs": []
    },
    {
      "cell_type": "code",
      "metadata": {
        "id": "HHYW-dOWgf1D",
        "colab_type": "code",
        "colab": {}
      },
      "source": [
        "import numpy as np\n",
        "import pandas as pd\n",
        "import matplotlib.pyplot as plt\n",
        "from sklearn.model_selection import train_test_split\n",
        "\n"
      ],
      "execution_count": null,
      "outputs": []
    },
    {
      "cell_type": "code",
      "metadata": {
        "id": "ExLRQ4P3gq0u",
        "colab_type": "code",
        "colab": {}
      },
      "source": [
        "train_df = pd.read_csv('fashion-mnist_train.csv')\n",
        "test_df = pd.read_csv('fashion-mnist_test.csv')\n",
        "\n",
        "# train_df.head()\n",
        "test_df.head()"
      ],
      "execution_count": null,
      "outputs": []
    },
    {
      "cell_type": "markdown",
      "metadata": {
        "id": "bppMNPPAtrMS",
        "colab_type": "text"
      },
      "source": [
        "# Splitting the training and testing data into X (image) and Y(label) arrays"
      ]
    },
    {
      "cell_type": "code",
      "metadata": {
        "id": "zCwaDZ7khX3u",
        "colab_type": "code",
        "colab": {}
      },
      "source": [
        "train_data = np.array(train_df, dtype='float32') #tf normally uses float32\n",
        "test_data = np.array(test_df, dtype='float32')\n",
        "\n",
        "x_train = train_data[:, 1:] / 255 #Scaling the data\n",
        "y_train = train_data[:, 0]\n",
        "\n",
        "x_test = test_data[:, 1:] / 255\n",
        "y_test = test_data[:, 0]"
      ],
      "execution_count": null,
      "outputs": []
    },
    {
      "cell_type": "markdown",
      "metadata": {
        "id": "7wWjB6PfuPTX",
        "colab_type": "text"
      },
      "source": [
        "\n",
        "# splitting the training data into train and validate set for validation "
      ]
    },
    {
      "cell_type": "code",
      "metadata": {
        "id": "fASE7HNBiiBH",
        "colab_type": "code",
        "colab": {}
      },
      "source": [
        "x_train, x_validate, y_train, y_validate = train_test_split( x_train, y_train, test_size=0.2, random_state=None)\n",
        "\n"
      ],
      "execution_count": null,
      "outputs": []
    },
    {
      "cell_type": "markdown",
      "metadata": {
        "id": "nILI3EAuubKn",
        "colab_type": "text"
      },
      "source": [
        "Viewing the images "
      ]
    },
    {
      "cell_type": "code",
      "metadata": {
        "id": "EmiIobvSm5qy",
        "colab_type": "code",
        "colab": {}
      },
      "source": [
        "image = x_train[100, :].reshape((28, 28))\n",
        "\n",
        "plt.imshow(image)\n",
        "plt.show()"
      ],
      "execution_count": null,
      "outputs": []
    },
    {
      "cell_type": "code",
      "metadata": {
        "id": "aupRy1hNskVl",
        "colab_type": "code",
        "colab": {}
      },
      "source": [
        "import keras\n",
        "from keras.models import Sequential\n",
        "from keras.layers import Conv2D, MaxPooling2D, Dense, Flatten, Dropout\n",
        "from keras.callbacks import TensorBoard\n",
        "from keras.optimizers import Adam\n",
        "\n"
      ],
      "execution_count": null,
      "outputs": []
    },
    {
      "cell_type": "markdown",
      "metadata": {
        "id": "5kt3YTWCvi2a",
        "colab_type": "text"
      },
      "source": [
        "Creating the Model--\n",
        "    Define the model,\n",
        "    Compile the model &\n",
        "    Fit the model\n"
      ]
    },
    {
      "cell_type": "code",
      "metadata": {
        "id": "dyNgcTBVspog",
        "colab_type": "code",
        "colab": {}
      },
      "source": [
        "im_rows = 28\n",
        "im_cols = 28\n",
        "batch_size = 512\n",
        "im_shape = (im_rows, im_cols, 1)\n",
        "\n",
        "x_train = x_train.reshape(x_train.shape[0], *im_shape)\n",
        "x_test = x_test.reshape(x_test.shape[0], *im_shape)\n",
        "x_validate = x_validate.reshape(x_validate.shape[0], *im_shape)\n",
        "\n",
        "print('x_train shape: {}'.format(x_train.shape))\n",
        "print('x_test shape: {}'.format(x_test.shape))\n",
        "print('x_validate shape: {}'.format(x_validate.shape))"
      ],
      "execution_count": null,
      "outputs": []
    },
    {
      "cell_type": "code",
      "metadata": {
        "id": "T0zP7zHfsvMn",
        "colab_type": "code",
        "colab": {}
      },
      "source": [
        "\n",
        "name = 'Layer1'\n",
        "cnn_model_1 = Sequential([\n",
        "    Conv2D(32, kernel_size=3, activation='relu', input_shape=im_shape, name='Conv2D-1'),\n",
        "    MaxPooling2D(pool_size=2, name='MaxPool'),\n",
        "    Dropout(0.2, name='Dropout'),\n",
        "    Flatten(name='flatten'),\n",
        "    Dense(32, activation='relu', name='Dense'),\n",
        "    Dense(10, activation='softmax', name='Output')\n",
        "], name=name)\n",
        "\n",
        "name = 'Layer2'\n",
        "cnn_model_2 = Sequential([\n",
        "    Conv2D(32, kernel_size=3, activation='relu', input_shape=im_shape, name='Conv2D-1'),\n",
        "    MaxPooling2D(pool_size=2, name='MaxPool'),\n",
        "    Dropout(0.2, name='Dropout-1'),\n",
        "    Conv2D(64, kernel_size=3, activation='relu', name='Conv2D-2'),\n",
        "    Dropout(0.25, name='Dropout-2'),\n",
        "    Flatten(name='flatten'),\n",
        "    Dense(64, activation='relu', name='Dense'),\n",
        "    Dense(10, activation='softmax', name='Output')\n",
        "], name=name)\n",
        "\n",
        "name='Layer3'\n",
        "cnn_model_3 = Sequential([\n",
        "    Conv2D(32, kernel_size=3, activation='relu', \n",
        "           input_shape=im_shape, kernel_initializer='he_normal', name='Conv2D-1'),\n",
        "    MaxPooling2D(pool_size=2, name='MaxPool'),\n",
        "    Dropout(0.25, name='Dropout-1'),\n",
        "    Conv2D(64, kernel_size=3, activation='relu', name='Conv2D-2'),\n",
        "\n",
        "\n",
        "    Dropout(0.25, name='Dropout-2'),\n",
        "    Conv2D(128, kernel_size=3, activation='relu', name='Conv2D-3'),\n",
        "    Dropout(0.4, name='Dropout-3'),\n",
        "    Flatten(name='flatten'),\n",
        "    Dense(128, activation='relu', name='Dense'),\n",
        "\n",
        " Dropout(0.4, name='Dropout'),\n",
        "    Dense(10, activation='softmax', name='Output')\n",
        "], name=name)\n",
        "\n",
        "cnn_models = [cnn_model_1, cnn_model_2, cnn_model_3]"
      ],
      "execution_count": null,
      "outputs": []
    },
    {
      "cell_type": "markdown",
      "metadata": {
        "id": "hmRS4G-KzUyP",
        "colab_type": "text"
      },
      "source": [
        "Compiling the Model"
      ]
    },
    {
      "cell_type": "code",
      "metadata": {
        "id": "Q3ciGavbs4B-",
        "colab_type": "code",
        "colab": {}
      },
      "source": [
        "\n",
        "# train the models and save results to a dict\n",
        "\n",
        "history_dict = {}\n",
        "\n",
        "for model in cnn_models:\n",
        "    model.compile(\n",
        "        loss='sparse_categorical_crossentropy',\n",
        "        optimizer=Adam(),\n",
        "        metrics=['accuracy']\n",
        "    )\n",
        "    \n",
        "    history = model.fit(\n",
        "        x_train, y_train,\n",
        "        batch_size=batch_size,\n",
        "        epochs=50, verbose=1,\n",
        "        validation_data=(x_validate, y_validate)\n",
        "    )\n",
        "    \n",
        "    history_dict[model.name] = history"
      ],
      "execution_count": null,
      "outputs": []
    },
    {
      "cell_type": "markdown",
      "metadata": {
        "id": "GQ2SFy1IzZPH",
        "colab_type": "text"
      },
      "source": [
        "Fitting the model"
      ]
    },
    {
      "cell_type": "code",
      "metadata": {
        "id": "3-Sq1CaUCsXZ",
        "colab_type": "code",
        "colab": {}
      },
      "source": [
        "# plot the accuracy and loss\n",
        "\n",
        "fig, (ax1, ax2) = plt.subplots(2, figsize=(8, 6))\n",
        "\n",
        "for history in history_dict:\n",
        "    val_acc = history_dict[history].history['val_accuracy']\n",
        "    val_loss = history_dict[history].history['val_loss']\n",
        "    ax1.plot(val_acc, label=history)\n",
        "    ax2.plot(val_loss, label=history)\n",
        "    \n",
        "ax1.set_ylabel('validation accuracy')\n",
        "ax2.set_ylabel('validation loss')\n",
        "ax2.set_xlabel('epochs')\n",
        "ax1.legend()\n",
        "ax2.legend()\n",
        "plt.show()"
      ],
      "execution_count": null,
      "outputs": []
    },
    {
      "cell_type": "code",
      "metadata": {
        "id": "v0_tEo8no4o7",
        "colab_type": "code",
        "colab": {}
      },
      "source": [
        "\n",
        "\n",
        "# score = model.evaluate(x_test, y_test, verbose=0)\n",
        "\n",
        "# print('test loss: {:.4f}'.format(score[0]))\n",
        "# print('test acc: {:.4f}'.format(score[1]))\n",
        "\n"
      ],
      "execution_count": null,
      "outputs": []
    },
    {
      "cell_type": "code",
      "metadata": {
        "id": "p5ozWK29CycZ",
        "colab_type": "code",
        "colab": {}
      },
      "source": [
        "predictions = model.predict(\n",
        "      x=x_test\n",
        "    , batch_size=10\n",
        "    , verbose=0\n",
        ") "
      ],
      "execution_count": null,
      "outputs": []
    },
    {
      "cell_type": "code",
      "metadata": {
        "id": "1tCalK6WElij",
        "colab_type": "code",
        "colab": {}
      },
      "source": [
        "# for i in predictions:\n",
        "#     print(i)"
      ],
      "execution_count": null,
      "outputs": []
    },
    {
      "cell_type": "code",
      "metadata": {
        "id": "YrpWRxQbFIm5",
        "colab_type": "code",
        "colab": {}
      },
      "source": [
        ""
      ],
      "execution_count": null,
      "outputs": []
    }
  ]
}